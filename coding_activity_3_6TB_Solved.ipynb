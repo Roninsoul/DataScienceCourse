{
  "cells": [
    {
      "cell_type": "markdown",
      "metadata": {
        "id": "view-in-github",
        "colab_type": "text"
      },
      "source": [
        "<a href=\"https://colab.research.google.com/github/Roninsoul/DataScienceCourse/blob/master/coding_activity_3_6TB_Solved.ipynb\" target=\"_parent\"><img src=\"https://colab.research.google.com/assets/colab-badge.svg\" alt=\"Open In Colab\"/></a>"
      ]
    },
    {
      "cell_type": "markdown",
      "metadata": {
        "nbgrader": {
          "grade": false,
          "grade_id": "cell-88d15a0ee1b2cab8",
          "locked": true,
          "schema_version": 1,
          "solution": false
        },
        "id": "Z1-kzD1_42nH"
      },
      "source": [
        "### Codio Activity 3.6: Resetting the Index\n",
        "\n",
        "**Expected Time**: 60 Minutes\n",
        "\n",
        "**Total Points**: 10\n",
        "\n",
        "This activity works through a similar example to the video, again using the gapminder dataset.  The goal is to compute what fraction of the worlds GDP did each country generate each year. \n",
        "\n",
        "#### Index:\n",
        "\n",
        "- [Problem 1](#Problem-1:-Total-GDP-by-year)\n",
        "- [Problem 2](#Problem-2:-Resetting-the-Index)\n",
        "- [Problem 3](#Problem-3:-Computing-Share-of-GDP)\n",
        "- [Problem 4](#Problem-4:-Resetting-the-Index-Again)\n",
        "- [Problem 5](#Problem-5:-Plotting-the-results)"
      ]
    },
    {
      "cell_type": "code",
      "execution_count": 1,
      "metadata": {
        "id": "Qb5xvYfQ42nM"
      },
      "outputs": [],
      "source": [
        "import plotly.express as px\n",
        "import pandas as pd\n",
        "import numpy as np\n",
        "import seaborn as sns\n",
        "import matplotlib.pyplot as plt"
      ]
    },
    {
      "cell_type": "code",
      "execution_count": 3,
      "metadata": {
        "id": "dazInlor42nN"
      },
      "outputs": [],
      "source": [
        "gapminder = px.data.gapminder()"
      ]
    },
    {
      "cell_type": "code",
      "execution_count": 4,
      "metadata": {
        "colab": {
          "base_uri": "https://localhost:8080/",
          "height": 206
        },
        "id": "l9p7l1jI42nO",
        "outputId": "8e8413d9-a4fd-45df-ebf7-de2c5b88bcaf"
      },
      "outputs": [
        {
          "output_type": "execute_result",
          "data": {
            "text/plain": [
              "       country continent  year  lifeExp       pop   gdpPercap iso_alpha  \\\n",
              "0  Afghanistan      Asia  1952   28.801   8425333  779.445314       AFG   \n",
              "1  Afghanistan      Asia  1957   30.332   9240934  820.853030       AFG   \n",
              "2  Afghanistan      Asia  1962   31.997  10267083  853.100710       AFG   \n",
              "3  Afghanistan      Asia  1967   34.020  11537966  836.197138       AFG   \n",
              "4  Afghanistan      Asia  1972   36.088  13079460  739.981106       AFG   \n",
              "\n",
              "   iso_num  \n",
              "0        4  \n",
              "1        4  \n",
              "2        4  \n",
              "3        4  \n",
              "4        4  "
            ],
            "text/html": [
              "\n",
              "  <div id=\"df-6a73d34b-2a3f-472f-aa55-59e4773726c5\">\n",
              "    <div class=\"colab-df-container\">\n",
              "      <div>\n",
              "<style scoped>\n",
              "    .dataframe tbody tr th:only-of-type {\n",
              "        vertical-align: middle;\n",
              "    }\n",
              "\n",
              "    .dataframe tbody tr th {\n",
              "        vertical-align: top;\n",
              "    }\n",
              "\n",
              "    .dataframe thead th {\n",
              "        text-align: right;\n",
              "    }\n",
              "</style>\n",
              "<table border=\"1\" class=\"dataframe\">\n",
              "  <thead>\n",
              "    <tr style=\"text-align: right;\">\n",
              "      <th></th>\n",
              "      <th>country</th>\n",
              "      <th>continent</th>\n",
              "      <th>year</th>\n",
              "      <th>lifeExp</th>\n",
              "      <th>pop</th>\n",
              "      <th>gdpPercap</th>\n",
              "      <th>iso_alpha</th>\n",
              "      <th>iso_num</th>\n",
              "    </tr>\n",
              "  </thead>\n",
              "  <tbody>\n",
              "    <tr>\n",
              "      <th>0</th>\n",
              "      <td>Afghanistan</td>\n",
              "      <td>Asia</td>\n",
              "      <td>1952</td>\n",
              "      <td>28.801</td>\n",
              "      <td>8425333</td>\n",
              "      <td>779.445314</td>\n",
              "      <td>AFG</td>\n",
              "      <td>4</td>\n",
              "    </tr>\n",
              "    <tr>\n",
              "      <th>1</th>\n",
              "      <td>Afghanistan</td>\n",
              "      <td>Asia</td>\n",
              "      <td>1957</td>\n",
              "      <td>30.332</td>\n",
              "      <td>9240934</td>\n",
              "      <td>820.853030</td>\n",
              "      <td>AFG</td>\n",
              "      <td>4</td>\n",
              "    </tr>\n",
              "    <tr>\n",
              "      <th>2</th>\n",
              "      <td>Afghanistan</td>\n",
              "      <td>Asia</td>\n",
              "      <td>1962</td>\n",
              "      <td>31.997</td>\n",
              "      <td>10267083</td>\n",
              "      <td>853.100710</td>\n",
              "      <td>AFG</td>\n",
              "      <td>4</td>\n",
              "    </tr>\n",
              "    <tr>\n",
              "      <th>3</th>\n",
              "      <td>Afghanistan</td>\n",
              "      <td>Asia</td>\n",
              "      <td>1967</td>\n",
              "      <td>34.020</td>\n",
              "      <td>11537966</td>\n",
              "      <td>836.197138</td>\n",
              "      <td>AFG</td>\n",
              "      <td>4</td>\n",
              "    </tr>\n",
              "    <tr>\n",
              "      <th>4</th>\n",
              "      <td>Afghanistan</td>\n",
              "      <td>Asia</td>\n",
              "      <td>1972</td>\n",
              "      <td>36.088</td>\n",
              "      <td>13079460</td>\n",
              "      <td>739.981106</td>\n",
              "      <td>AFG</td>\n",
              "      <td>4</td>\n",
              "    </tr>\n",
              "  </tbody>\n",
              "</table>\n",
              "</div>\n",
              "      <button class=\"colab-df-convert\" onclick=\"convertToInteractive('df-6a73d34b-2a3f-472f-aa55-59e4773726c5')\"\n",
              "              title=\"Convert this dataframe to an interactive table.\"\n",
              "              style=\"display:none;\">\n",
              "        \n",
              "  <svg xmlns=\"http://www.w3.org/2000/svg\" height=\"24px\"viewBox=\"0 0 24 24\"\n",
              "       width=\"24px\">\n",
              "    <path d=\"M0 0h24v24H0V0z\" fill=\"none\"/>\n",
              "    <path d=\"M18.56 5.44l.94 2.06.94-2.06 2.06-.94-2.06-.94-.94-2.06-.94 2.06-2.06.94zm-11 1L8.5 8.5l.94-2.06 2.06-.94-2.06-.94L8.5 2.5l-.94 2.06-2.06.94zm10 10l.94 2.06.94-2.06 2.06-.94-2.06-.94-.94-2.06-.94 2.06-2.06.94z\"/><path d=\"M17.41 7.96l-1.37-1.37c-.4-.4-.92-.59-1.43-.59-.52 0-1.04.2-1.43.59L10.3 9.45l-7.72 7.72c-.78.78-.78 2.05 0 2.83L4 21.41c.39.39.9.59 1.41.59.51 0 1.02-.2 1.41-.59l7.78-7.78 2.81-2.81c.8-.78.8-2.07 0-2.86zM5.41 20L4 18.59l7.72-7.72 1.47 1.35L5.41 20z\"/>\n",
              "  </svg>\n",
              "      </button>\n",
              "      \n",
              "  <style>\n",
              "    .colab-df-container {\n",
              "      display:flex;\n",
              "      flex-wrap:wrap;\n",
              "      gap: 12px;\n",
              "    }\n",
              "\n",
              "    .colab-df-convert {\n",
              "      background-color: #E8F0FE;\n",
              "      border: none;\n",
              "      border-radius: 50%;\n",
              "      cursor: pointer;\n",
              "      display: none;\n",
              "      fill: #1967D2;\n",
              "      height: 32px;\n",
              "      padding: 0 0 0 0;\n",
              "      width: 32px;\n",
              "    }\n",
              "\n",
              "    .colab-df-convert:hover {\n",
              "      background-color: #E2EBFA;\n",
              "      box-shadow: 0px 1px 2px rgba(60, 64, 67, 0.3), 0px 1px 3px 1px rgba(60, 64, 67, 0.15);\n",
              "      fill: #174EA6;\n",
              "    }\n",
              "\n",
              "    [theme=dark] .colab-df-convert {\n",
              "      background-color: #3B4455;\n",
              "      fill: #D2E3FC;\n",
              "    }\n",
              "\n",
              "    [theme=dark] .colab-df-convert:hover {\n",
              "      background-color: #434B5C;\n",
              "      box-shadow: 0px 1px 3px 1px rgba(0, 0, 0, 0.15);\n",
              "      filter: drop-shadow(0px 1px 2px rgba(0, 0, 0, 0.3));\n",
              "      fill: #FFFFFF;\n",
              "    }\n",
              "  </style>\n",
              "\n",
              "      <script>\n",
              "        const buttonEl =\n",
              "          document.querySelector('#df-6a73d34b-2a3f-472f-aa55-59e4773726c5 button.colab-df-convert');\n",
              "        buttonEl.style.display =\n",
              "          google.colab.kernel.accessAllowed ? 'block' : 'none';\n",
              "\n",
              "        async function convertToInteractive(key) {\n",
              "          const element = document.querySelector('#df-6a73d34b-2a3f-472f-aa55-59e4773726c5');\n",
              "          const dataTable =\n",
              "            await google.colab.kernel.invokeFunction('convertToInteractive',\n",
              "                                                     [key], {});\n",
              "          if (!dataTable) return;\n",
              "\n",
              "          const docLinkHtml = 'Like what you see? Visit the ' +\n",
              "            '<a target=\"_blank\" href=https://colab.research.google.com/notebooks/data_table.ipynb>data table notebook</a>'\n",
              "            + ' to learn more about interactive tables.';\n",
              "          element.innerHTML = '';\n",
              "          dataTable['output_type'] = 'display_data';\n",
              "          await google.colab.output.renderOutput(dataTable, element);\n",
              "          const docLink = document.createElement('div');\n",
              "          docLink.innerHTML = docLinkHtml;\n",
              "          element.appendChild(docLink);\n",
              "        }\n",
              "      </script>\n",
              "    </div>\n",
              "  </div>\n",
              "  "
            ]
          },
          "metadata": {},
          "execution_count": 4
        }
      ],
      "source": [
        "gapminder.head()"
      ]
    },
    {
      "cell_type": "code",
      "execution_count": 5,
      "metadata": {
        "colab": {
          "base_uri": "https://localhost:8080/"
        },
        "id": "XlAf-JSI42nP",
        "outputId": "b35741b7-fccd-455c-a347-63cf936af88d"
      },
      "outputs": [
        {
          "output_type": "stream",
          "name": "stdout",
          "text": [
            "<class 'pandas.core.frame.DataFrame'>\n",
            "RangeIndex: 1704 entries, 0 to 1703\n",
            "Data columns (total 8 columns):\n",
            " #   Column     Non-Null Count  Dtype  \n",
            "---  ------     --------------  -----  \n",
            " 0   country    1704 non-null   object \n",
            " 1   continent  1704 non-null   object \n",
            " 2   year       1704 non-null   int64  \n",
            " 3   lifeExp    1704 non-null   float64\n",
            " 4   pop        1704 non-null   int64  \n",
            " 5   gdpPercap  1704 non-null   float64\n",
            " 6   iso_alpha  1704 non-null   object \n",
            " 7   iso_num    1704 non-null   int64  \n",
            "dtypes: float64(2), int64(3), object(3)\n",
            "memory usage: 106.6+ KB\n"
          ]
        }
      ],
      "source": [
        "gapminder.info()"
      ]
    },
    {
      "cell_type": "markdown",
      "metadata": {
        "nbgrader": {
          "grade": false,
          "grade_id": "cell-c11189ea7797fd87",
          "locked": true,
          "schema_version": 1,
          "solution": false
        },
        "id": "80X365CC42nP"
      },
      "source": [
        "[Back to top](#Index:) \n",
        "\n",
        "\n",
        "### Problem 1: Total GDP by year\n",
        "\n",
        "**2 Points**\n",
        "\n",
        "Use the `groupby` operation to group on the year column and compute the total GDP for each year (`sum`).  Assign your results as a DataFrame to `ans1` below. "
      ]
    },
    {
      "cell_type": "code",
      "execution_count": 6,
      "metadata": {
        "nbgrader": {
          "grade": false,
          "grade_id": "cell-cc969d61ad0314b6",
          "locked": false,
          "schema_version": 1,
          "solution": true
        },
        "colab": {
          "base_uri": "https://localhost:8080/"
        },
        "id": "v-sltM3O42nQ",
        "outputId": "aede6b6a-8c0d-42e6-882e-7b586c5688ef"
      },
      "outputs": [
        {
          "output_type": "stream",
          "name": "stdout",
          "text": [
            "         lifeExp         pop     gdpPercap  iso_num\n",
            "year                                               \n",
            "1952  6966.18200  2406957150  5.289892e+05    60475\n",
            "1957  7314.05096  2664404580  6.105160e+05    60475\n",
            "1962  7612.51336  2899782974  6.710654e+05    60475\n",
            "1967  7906.31712  3217478384  7.786787e+05    60475\n",
            "1972  8185.92888  3576977158  9.613518e+05    60475\n",
            "1977  8458.96236  3930045807  1.038470e+06    60475\n",
            "1982  8737.71400  4289436840  1.067684e+06    60475\n",
            "1987  8976.19100  4691477418  1.121931e+06    60475\n",
            "1992  9110.76800  5110710260  1.158522e+06    60475\n",
            "1997  9232.08400  5515204472  1.290805e+06    60475\n",
            "2002  9328.67900  5886977579  1.408334e+06    60475\n",
            "2007  9515.05400  6251013179  1.658570e+06    60475\n",
            "<class 'pandas.core.frame.DataFrame'>\n"
          ]
        }
      ],
      "source": [
        "### GRADED\n",
        "\n",
        "ans1 = None\n",
        "\n",
        "### BEGIN SOLUTION\n",
        "ans1 = gapminder.groupby('year').sum()\n",
        "### END SOLUTION\n",
        "\n",
        "# Answer check\n",
        "print(ans1)\n",
        "print(type(ans1))"
      ]
    },
    {
      "cell_type": "code",
      "execution_count": 7,
      "metadata": {
        "nbgrader": {
          "grade": true,
          "grade_id": "cell-d6ecf40d4ee71bff",
          "locked": true,
          "points": 2,
          "schema_version": 1,
          "solution": false
        },
        "id": "vzq1Xbea42nR"
      },
      "outputs": [],
      "source": [
        "### BEGIN HIDDEN TESTS\n",
        "gapminder_ = px.data.gapminder()\n",
        "ans1_ = gapminder_.groupby('year').sum()\n",
        "#\n",
        "#\n",
        "#\n",
        "assert type(ans1_) == type(ans1)\n",
        "pd.testing.assert_frame_equal(ans1, ans1_)\n",
        "### END HIDDEN TESTS"
      ]
    },
    {
      "cell_type": "markdown",
      "metadata": {
        "id": "KElIIA5P42nS"
      },
      "source": [
        "[Back to top](#Index:) \n",
        "\n",
        "\n",
        "### Problem 2: Resetting the Index\n",
        "\n",
        "**2 Points**\n",
        "\n",
        "In order to compute the share of GDP, reset the index of the original gapminder dataframe to a multi-index DataFrame using the `year` and `country` columns.  Assign the resulting DataFrame to `ans2` below."
      ]
    },
    {
      "cell_type": "code",
      "execution_count": 8,
      "metadata": {
        "nbgrader": {
          "grade": false,
          "grade_id": "cell-6cafd965e50e4f03",
          "locked": false,
          "schema_version": 1,
          "solution": true
        },
        "colab": {
          "base_uri": "https://localhost:8080/"
        },
        "id": "osQhNV9O42nT",
        "outputId": "103d933a-46b9-40ac-943a-8331cc7b2e02"
      },
      "outputs": [
        {
          "output_type": "stream",
          "name": "stdout",
          "text": [
            "                 continent  lifeExp       pop   gdpPercap iso_alpha  iso_num\n",
            "year country                                                                \n",
            "1952 Afghanistan      Asia   28.801   8425333  779.445314       AFG        4\n",
            "1957 Afghanistan      Asia   30.332   9240934  820.853030       AFG        4\n",
            "1962 Afghanistan      Asia   31.997  10267083  853.100710       AFG        4\n",
            "1967 Afghanistan      Asia   34.020  11537966  836.197138       AFG        4\n",
            "1972 Afghanistan      Asia   36.088  13079460  739.981106       AFG        4\n",
            "<class 'pandas.core.frame.DataFrame'>\n"
          ]
        }
      ],
      "source": [
        "### GRADED\n",
        "\n",
        "ans2 = None\n",
        "\n",
        "### BEGIN SOLUTION\n",
        "ans2 = gapminder.set_index(['year', 'country'])\n",
        "### END SOLUTION\n",
        "\n",
        "# Answer check\n",
        "print(ans2.head())\n",
        "print(type(ans2))"
      ]
    },
    {
      "cell_type": "code",
      "execution_count": 9,
      "metadata": {
        "nbgrader": {
          "grade": true,
          "grade_id": "cell-54e2bcbf720bcfb4",
          "locked": true,
          "points": 2,
          "schema_version": 1,
          "solution": false
        },
        "id": "rtqby-JA42nT"
      },
      "outputs": [],
      "source": [
        "### BEGIN HIDDEN TESTS\n",
        "gapminder_ = px.data.gapminder()\n",
        "ans2_ = gapminder_.set_index(['year', 'country'])\n",
        "#\n",
        "#\n",
        "#\n",
        "assert type(ans2_) == type(ans2)\n",
        "pd.testing.assert_frame_equal(ans2, ans2_)\n",
        "### END HIDDEN TESTS"
      ]
    },
    {
      "cell_type": "markdown",
      "metadata": {
        "nbgrader": {
          "grade": false,
          "grade_id": "cell-0cefd6fb035fb290",
          "locked": true,
          "schema_version": 1,
          "solution": false
        },
        "id": "ndVd594G42nT"
      },
      "source": [
        "[Back to top](#Index:) \n",
        "\n",
        "\n",
        "### Problem 3: Computing Share of GDP\n",
        "\n",
        "**2 Points**\n",
        "\n",
        "Use your solutions from problem 1 and 2 to determine each country's share of the world GDP by year. Assign the resulting DataFrame to `ans3` below. "
      ]
    },
    {
      "cell_type": "code",
      "execution_count": 12,
      "metadata": {
        "nbgrader": {
          "grade": false,
          "grade_id": "cell-42a3ebf40b65528f",
          "locked": false,
          "schema_version": 1,
          "solution": true
        },
        "colab": {
          "base_uri": "https://localhost:8080/"
        },
        "id": "kfnOjOZf42nU",
        "outputId": "3cc4da7a-73a5-4b22-91be-cd1f7e2bcafa"
      },
      "outputs": [
        {
          "output_type": "stream",
          "name": "stdout",
          "text": [
            "                  continent  gdpPercap  iso_alpha   iso_num   lifeExp  \\\n",
            "year country                                                            \n",
            "1952 Afghanistan        NaN   0.001473        NaN  0.000066  0.004134   \n",
            "1957 Afghanistan        NaN   0.001345        NaN  0.000066  0.004147   \n",
            "1962 Afghanistan        NaN   0.001271        NaN  0.000066  0.004203   \n",
            "1967 Afghanistan        NaN   0.001074        NaN  0.000066  0.004303   \n",
            "1972 Afghanistan        NaN   0.000770        NaN  0.000066  0.004409   \n",
            "\n",
            "                       pop  \n",
            "year country                \n",
            "1952 Afghanistan  0.003500  \n",
            "1957 Afghanistan  0.003468  \n",
            "1962 Afghanistan  0.003541  \n",
            "1967 Afghanistan  0.003586  \n",
            "1972 Afghanistan  0.003657  \n",
            "(1704, 6) (1704, 8)\n"
          ]
        }
      ],
      "source": [
        "### GRADED\n",
        "\n",
        "ans3 = None\n",
        "\n",
        "### BEGIN SOLUTION\n",
        "ans3 = gapminder.set_index(['year', 'country'])/gapminder.groupby('year').sum()\n",
        "### END SOLUTION\n",
        "\n",
        "# Answer check\n",
        "print(ans3.head())\n",
        "print(ans3.shape, gapminder.shape)"
      ]
    },
    {
      "cell_type": "code",
      "execution_count": 13,
      "metadata": {
        "nbgrader": {
          "grade": true,
          "grade_id": "cell-b36655df8ac71318",
          "locked": true,
          "points": 2,
          "schema_version": 1,
          "solution": false
        },
        "id": "mfUVI7J742nU"
      },
      "outputs": [],
      "source": [
        "### BEGIN HIDDEN TESTS\n",
        "gapminder_ = px.data.gapminder()\n",
        "ans3_ = gapminder_.set_index(['year', 'country'])/gapminder_.groupby('year').sum()\n",
        "#\n",
        "#\n",
        "#\n",
        "assert type(ans3_) == type(ans3)\n",
        "pd.testing.assert_frame_equal(ans3, ans3_)\n",
        "### END HIDDEN TESTS"
      ]
    },
    {
      "cell_type": "markdown",
      "metadata": {
        "nbgrader": {
          "grade": false,
          "grade_id": "cell-11b731d172ccb259",
          "locked": true,
          "schema_version": 1,
          "solution": false
        },
        "id": "d85i_QFN42nV"
      },
      "source": [
        "[Back to top](#Index:) \n",
        "\n",
        "\n",
        "### Problem 4: Resetting the Index Again\n",
        "\n",
        "**2 Points**\n",
        "\n",
        "Having computed the share of GDP by year in the earlier question using a multi-index, select the `gdpPercap` column and reset the index of the resulting series.  Assign your solution -- a DataFrame with columns `[year, country, gdpPercap]` -- to `ans4` below. "
      ]
    },
    {
      "cell_type": "code",
      "execution_count": 14,
      "metadata": {
        "nbgrader": {
          "grade": false,
          "grade_id": "cell-475fc312f890e12e",
          "locked": false,
          "schema_version": 1,
          "solution": true
        },
        "colab": {
          "base_uri": "https://localhost:8080/"
        },
        "id": "ukaBDkkT42nV",
        "outputId": "3139e523-849c-4053-ec16-8026c86132b7"
      },
      "outputs": [
        {
          "output_type": "stream",
          "name": "stdout",
          "text": [
            "   year      country  gdpPercap\n",
            "0  1952  Afghanistan   0.001473\n",
            "1  1957  Afghanistan   0.001345\n",
            "2  1962  Afghanistan   0.001271\n",
            "3  1967  Afghanistan   0.001074\n",
            "4  1972  Afghanistan   0.000770\n",
            "<class 'pandas.core.frame.DataFrame'>\n"
          ]
        }
      ],
      "source": [
        "### GRADED\n",
        "\n",
        "ans4 = None\n",
        "\n",
        "### BEGIN SOLUTION\n",
        "ans4 = (gapminder.set_index(['year', 'country'])/gapminder.groupby('year').sum())[['gdpPercap']].reset_index()\n",
        "### END SOLUTION\n",
        "\n",
        "# Answer check\n",
        "print(ans4.head())\n",
        "print(type(ans4))"
      ]
    },
    {
      "cell_type": "code",
      "execution_count": 15,
      "metadata": {
        "nbgrader": {
          "grade": true,
          "grade_id": "cell-75de2ef131e2a50f",
          "locked": true,
          "points": 2,
          "schema_version": 1,
          "solution": false
        },
        "id": "gXshNIOW42nW"
      },
      "outputs": [],
      "source": [
        "### BEGIN HIDDEN TESTS\n",
        "gapminder_ = px.data.gapminder()\n",
        "ans4_ = (gapminder_.set_index(['year', 'country'])/gapminder_.groupby('year').sum())[['gdpPercap']].reset_index()\n",
        "#\n",
        "#\n",
        "#\n",
        "assert type(ans4_) == type(ans4)\n",
        "pd.testing.assert_frame_equal(ans4, ans4_)\n",
        "### END HIDDEN TESTS"
      ]
    },
    {
      "cell_type": "markdown",
      "metadata": {
        "nbgrader": {
          "grade": false,
          "grade_id": "cell-515d2cd89c3ff9fa",
          "locked": true,
          "schema_version": 1,
          "solution": false
        },
        "id": "5HjwgWX742nW"
      },
      "source": [
        "[Back to top](#Index:) \n",
        "\n",
        "\n",
        "### Problem 5: Plotting the results\n",
        "\n",
        "**2 Points**\n",
        "\n",
        "Using the list of countries below, query your solution to problem 4 and assign the result to `ans5a` below as a DataFrame.  Use seaborn's `lineplot` to generate a plot where the x-axis represents the year, the y-axis share of world GDP, and hue is `country`.  Add the title \"Top Countries Share of GDP 1952 - 2002\" and human readable x label and y label."
      ]
    },
    {
      "cell_type": "code",
      "execution_count": 16,
      "metadata": {
        "nbgrader": {
          "grade": false,
          "grade_id": "cell-838879404b8f14ef",
          "locked": false,
          "schema_version": 1,
          "solution": true
        },
        "colab": {
          "base_uri": "https://localhost:8080/"
        },
        "id": "40cVkeBm42nW",
        "outputId": "0de21a69-388d-48d7-85b9-69da619a2fdd"
      },
      "outputs": [
        {
          "output_type": "stream",
          "name": "stdout",
          "text": [
            "     year country  gdpPercap\n",
            "288  1952   China   0.000757\n",
            "289  1957   China   0.000943\n",
            "290  1962   China   0.000727\n",
            "291  1967   China   0.000787\n",
            "292  1972   China   0.000704\n",
            "<class 'pandas.core.frame.DataFrame'>\n"
          ]
        }
      ],
      "source": [
        "### GRADED\n",
        "\n",
        "list_of_countries = ['China', 'United States', 'Japan', 'India', 'United Kingdom', 'Germany']\n",
        "ans5a = None\n",
        "ans5b = None\n",
        "\n",
        "### BEGIN SOLUTION\n",
        "ans5a = (gapminder.set_index(['year', 'country'])/gapminder.groupby('year').sum())[['gdpPercap']].reset_index().query(\"country in @list_of_countries\")\n",
        "### END SOLUTION\n",
        "\n",
        "# Answer check\n",
        "print(ans5a.head())\n",
        "print(type(ans5a))"
      ]
    },
    {
      "cell_type": "code",
      "execution_count": 17,
      "metadata": {
        "nbgrader": {
          "grade": true,
          "grade_id": "cell-24e5b6ab855a318d",
          "locked": true,
          "points": 2,
          "schema_version": 1,
          "solution": false
        },
        "id": "b3I9jx8442nX"
      },
      "outputs": [],
      "source": [
        "### BEGIN HIDDEN TESTS\n",
        "gapminder_ = px.data.gapminder()\n",
        "ans4_ = (gapminder_.set_index(['year', 'country'])/gapminder_.groupby('year').sum())[['gdpPercap']].reset_index()\n",
        "list_of_countries = ['China', 'United States', 'Japan', 'India', 'United Kingdom', 'Germany']\n",
        "ans5a_ = ans4_.query(\"country in @list_of_countries\")\n",
        "\n",
        "#\n",
        "#\n",
        "#\n",
        "assert type(ans5a_) == type(ans5a)\n",
        "pd.testing.assert_frame_equal(ans5a, ans5a_)\n",
        "### END HIDDEN TESTS"
      ]
    },
    {
      "cell_type": "code",
      "execution_count": 18,
      "metadata": {
        "colab": {
          "base_uri": "https://localhost:8080/",
          "height": 295
        },
        "id": "IglTWbZb42nX",
        "outputId": "31b24211-e59a-4335-8dfe-7271e512c876"
      },
      "outputs": [
        {
          "output_type": "display_data",
          "data": {
            "text/plain": [
              "<Figure size 432x288 with 1 Axes>"
            ],
            "image/png": "[encoded data removed]"
          },
          "metadata": {
            "needs_background": "light"
          }
        }
      ],
      "source": [
        "sns.lineplot(data = ans5a_, x = 'year', y = 'gdpPercap', hue = 'country')\n",
        "plt.title('Share of GDP')\n",
        "plt.xlabel('Year')\n",
        "plt.ylabel(\"GDP per capita\");"
      ]
    }
  ],
  "metadata": {
    "celltoolbar": "Create Assignment",
    "kernelspec": {
      "display_name": "Python 3",
      "language": "python",
      "name": "python3"
    },
    "language_info": {
      "codemirror_mode": {
        "name": "ipython",
        "version": 3
      },
      "file_extension": ".py",
      "mimetype": "text/x-python",
      "name": "python",
      "nbconvert_exporter": "python",
      "pygments_lexer": "ipython3",
      "version": "3.6.9"
    },
    "colab": {
      "name": "coding_activity_3.6TB-Solved.ipynb",
      "provenance": [],
      "collapsed_sections": [],
      "include_colab_link": true
    }
  },
  "nbformat": 4,
  "nbformat_minor": 0
}